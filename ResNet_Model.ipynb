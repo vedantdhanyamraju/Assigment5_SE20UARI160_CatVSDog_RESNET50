{
  "nbformat": 4,
  "nbformat_minor": 0,
  "metadata": {
    "colab": {
      "provenance": []
    },
    "kernelspec": {
      "name": "python3",
      "display_name": "Python 3"
    },
    "language_info": {
      "name": "python"
    }
  },
  "cells": [
    {
      "cell_type": "code",
      "execution_count": null,
      "metadata": {
        "id": "jg1eXF8C8UaV"
      },
      "outputs": [],
      "source": [
        "import tensorflow as tf\n",
        "from tensorflow.keras.applications import ResNet50\n",
        "from tensorflow.keras.preprocessing.image import ImageDataGenerator\n",
        "\n",
        "# Load the pre-trained ResNet model\n",
        "model = ResNet50(weights='imagenet', include_top=False)\n",
        "\n",
        "# Freeze the first few layers of the model\n",
        "for layer in model.layers[:5]:\n",
        "    layer.trainable = False\n",
        "\n",
        "# Add a new classification layer to the model\n",
        "x = model.output\n",
        "x = tf.keras.layers.Flatten()(x)\n",
        "x = tf.keras.layers.Dense(128, activation='relu')(x)\n",
        "x = tf.keras.layers.Dropout(0.5)(x)\n",
        "x = tf.keras.layers.Dense(2, activation='softmax')(x)\n",
        "\n",
        "# Compile the model\n",
        "model = tf.keras.Model(inputs=model.input, outputs=x)\n",
        "model.compile(optimizer='adam',\n",
        "              loss='categorical_crossentropy',\n",
        "              metrics=['accuracy'])\n",
        "\n",
        "# Prepare the data\n",
        "train_datagen = ImageDataGenerator(rescale=1./255)\n",
        "train_generator = train_datagen.flow_from_directory(\n",
        "        'train_data',\n",
        "        target_size=(224, 224),\n",
        "        batch_size=32,\n",
        "        class_mode='categorical')\n",
        "\n",
        "test_datagen = ImageDataGenerator(rescale=1./255)\n",
        "test_generator = test_datagen.flow_from_directory(\n",
        "        'test_data',\n",
        "        target_size=(224, 224),\n",
        "        batch_size=32,\n",
        "        class_mode='categorical')\n",
        "\n",
        "# Train the model\n",
        "model.fit(train_generator,\n",
        "          epochs=10)\n",
        "\n",
        "# Evaluate the model on the test set\n",
        "test_loss, test_accuracy = model.evaluate(test_generator)\n",
        "print('Test accuracy:', test_accuracy)\n",
        "\n",
        "# Use the model to classify new images\n",
        "new_image = tf.keras.preprocessing.image.load_img('new_image.jpg', target_size=(224, 224))\n",
        "new_image = tf.keras.preprocessing.image.img_to_array(new_image)\n",
        "new_image = tf.expand_dims(new_image, axis=0)\n",
        "\n",
        "predictions = model.predict(new_image)\n",
        "\n",
        "if predictions[0][0] > predictions[0][1]:\n",
        "    print('The image is a cat.')\n",
        "else:\n",
        "    print('The image is a dog.')\n"
      ]
    }
  ]
}